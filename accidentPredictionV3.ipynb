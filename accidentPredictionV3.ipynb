{
 "cells": [
  {
   "cell_type": "code",
   "id": "initial_id",
   "metadata": {
    "collapsed": true,
    "ExecuteTime": {
     "end_time": "2024-04-21T16:14:18.709226Z",
     "start_time": "2024-04-21T16:14:16.991230Z"
    }
   },
   "source": [
    "import pandas as pd\n",
    "import numpy as np\n",
    "from sklearn.model_selection import train_test_split\n",
    "from sklearn.ensemble import RandomForestRegressor\n",
    "from sklearn.metrics import mean_squared_error, r2_score, mean_absolute_error\n",
    "from sklearn.preprocessing import OneHotEncoder\n",
    "from sklearn.compose import ColumnTransformer\n",
    "from imblearn.pipeline import Pipeline as ImbPipeline\n",
    "from sklearn.model_selection import GridSearchCV"
   ],
   "outputs": [],
   "execution_count": 1
  },
  {
   "metadata": {
    "ExecuteTime": {
     "end_time": "2024-04-21T16:14:18.724761Z",
     "start_time": "2024-04-21T16:14:18.710234Z"
    }
   },
   "cell_type": "code",
   "source": [
    "def load_data():\n",
    "    data = pd.read_csv('rapport_accident_2022.csv', delimiter=',', quotechar='\"')\n",
    "    data = data.drop('NO_SEQ_COLL', axis=1)\n",
    "    data.columns = data.columns.str.replace('\\t', '')\n",
    "    data.columns = data.columns.str.replace('\"', '')\n",
    "    return data\n",
    "\n",
    "def preprocess_data(data):\n",
    "    data = data.drop('CD_ZON_TRAVX_ROUTR', axis=1)\n",
    "    data = data.drop('AN', axis=1)\n",
    "    data = data.dropna()\n",
    "    return data"
   ],
   "id": "648bb9e24f63578f",
   "outputs": [],
   "execution_count": 2
  },
  {
   "metadata": {
    "ExecuteTime": {
     "end_time": "2024-04-21T16:14:19.238877Z",
     "start_time": "2024-04-21T16:14:18.726765Z"
    }
   },
   "cell_type": "code",
   "source": [
    "data = load_data()\n",
    "data = preprocess_data(data)\n",
    "print(data.columns)"
   ],
   "id": "561bf6c64b454d9",
   "outputs": [
    {
     "name": "stdout",
     "output_type": "stream",
     "text": [
      "Index(['MS_ACCDN', 'HR_ACCDN', 'JR_SEMN_ACCDN', 'GRAVITE', 'NB_VICTIMES_TOTAL',\n",
      "       'NB_VEH_IMPLIQUES_ACCDN', 'REG_ADM', 'VITESSE_AUTOR', 'CD_GENRE_ACCDN',\n",
      "       'CD_ETAT_SURFC', 'CD_ECLRM', 'CD_ENVRN_ACCDN', 'CD_CATEG_ROUTE',\n",
      "       'CD_ASPCT_ROUTE', 'CD_LOCLN_ACCDN', 'CD_CONFG_ROUTE', 'CD_COND_METEO',\n",
      "       'IND_AUTO_CAMION_LEGER', 'IND_VEH_LOURD', 'IND_MOTO_CYCLO', 'IND_VELO',\n",
      "       'IND_PIETON'],\n",
      "      dtype='object')\n"
     ]
    }
   ],
   "execution_count": 3
  },
  {
   "metadata": {
    "ExecuteTime": {
     "end_time": "2024-04-21T16:14:19.269957Z",
     "start_time": "2024-04-21T16:14:19.240878Z"
    }
   },
   "cell_type": "code",
   "source": "print(data.head())",
   "id": "b4364aa0f589dce4",
   "outputs": [
    {
     "name": "stdout",
     "output_type": "stream",
     "text": [
      "   MS_ACCDN           HR_ACCDN JR_SEMN_ACCDN  \\\n",
      "0         3  16:00:00-19:59:00           SEM   \n",
      "1         4  20:00:00-23:59:00           SEM   \n",
      "2         3  16:00:00-19:59:00           SEM   \n",
      "5         5  08:00:00-11:59:00           FDS   \n",
      "6         6  16:00:00-19:59:00           SEM   \n",
      "\n",
      "                                             GRAVITE  NB_VICTIMES_TOTAL  \\\n",
      "0                       Dommages matériels seulement                  0   \n",
      "1                       Dommages matériels seulement                  0   \n",
      "2                       Dommages matériels seulement                  0   \n",
      "5  Dommages matériels inférieurs au seuil de rapp...                  0   \n",
      "6  Dommages matériels inférieurs au seuil de rapp...                  0   \n",
      "\n",
      "   NB_VEH_IMPLIQUES_ACCDN                     REG_ADM VITESSE_AUTOR  \\\n",
      "0                     1.0              Outaouais (07)            90   \n",
      "1                     1.0            Laurentides (15)            90   \n",
      "2                     2.0  Abitibi-Témiscamingue (08)            50   \n",
      "5                     1.0            Laurentides (15)           100   \n",
      "6                     2.0            Laurentides (15)           <50   \n",
      "\n",
      "  CD_GENRE_ACCDN  CD_ETAT_SURFC  ...  CD_CATEG_ROUTE  CD_ASPCT_ROUTE  \\\n",
      "0     objet fixe           12.0  ...             1.0           Droit   \n",
      "1       véhicule           12.0  ...             1.0           Droit   \n",
      "2       véhicule           17.0  ...             1.0           Droit   \n",
      "5     objet fixe           12.0  ...             1.0           Droit   \n",
      "6       véhicule           11.0  ...             1.0           Droit   \n",
      "\n",
      "   CD_LOCLN_ACCDN CD_CONFG_ROUTE  CD_COND_METEO  IND_AUTO_CAMION_LEGER  \\\n",
      "0            33.0           23.0           17.0                      O   \n",
      "1            99.0           23.0           12.0                      O   \n",
      "2            34.0           23.0           11.0                      O   \n",
      "5            34.0           45.0           14.0                      O   \n",
      "6            12.0           23.0           11.0                      O   \n",
      "\n",
      "   IND_VEH_LOURD IND_MOTO_CYCLO IND_VELO IND_PIETON  \n",
      "0              N              N        N          N  \n",
      "1              N              N        N          N  \n",
      "2              N              N        N          N  \n",
      "5              N              N        N          N  \n",
      "6              N              N        N          N  \n",
      "\n",
      "[5 rows x 22 columns]\n"
     ]
    }
   ],
   "execution_count": 4
  },
  {
   "metadata": {},
   "cell_type": "markdown",
   "source": "## Préparation des données",
   "id": "c228a5fb64d8ab2"
  },
  {
   "metadata": {
    "ExecuteTime": {
     "end_time": "2024-04-21T16:14:19.285590Z",
     "start_time": "2024-04-21T16:14:19.271956Z"
    }
   },
   "cell_type": "code",
   "source": [
    "# Type de données\n",
    "data.dtypes"
   ],
   "id": "b09e7c181ffff861",
   "outputs": [
    {
     "data": {
      "text/plain": [
       "MS_ACCDN                    int64\n",
       "HR_ACCDN                   object\n",
       "JR_SEMN_ACCDN              object\n",
       "GRAVITE                    object\n",
       "NB_VICTIMES_TOTAL           int64\n",
       "NB_VEH_IMPLIQUES_ACCDN    float64\n",
       "REG_ADM                    object\n",
       "VITESSE_AUTOR              object\n",
       "CD_GENRE_ACCDN             object\n",
       "CD_ETAT_SURFC             float64\n",
       "CD_ECLRM                  float64\n",
       "CD_ENVRN_ACCDN            float64\n",
       "CD_CATEG_ROUTE            float64\n",
       "CD_ASPCT_ROUTE             object\n",
       "CD_LOCLN_ACCDN            float64\n",
       "CD_CONFG_ROUTE            float64\n",
       "CD_COND_METEO             float64\n",
       "IND_AUTO_CAMION_LEGER      object\n",
       "IND_VEH_LOURD              object\n",
       "IND_MOTO_CYCLO             object\n",
       "IND_VELO                   object\n",
       "IND_PIETON                 object\n",
       "dtype: object"
      ]
     },
     "execution_count": 5,
     "metadata": {},
     "output_type": "execute_result"
    }
   ],
   "execution_count": 5
  },
  {
   "metadata": {},
   "cell_type": "markdown",
   "source": "### Ici, nous avons des variables catégorielles, binaires et numériques. Nous devrons les traiter différemment lors de la préparation des données.",
   "id": "74ff411bdcc0de87"
  },
  {
   "metadata": {
    "ExecuteTime": {
     "end_time": "2024-04-21T16:31:29.575853Z",
     "start_time": "2024-04-21T16:31:29.548310Z"
    }
   },
   "cell_type": "code",
   "source": [
    "df = pd.DataFrame(data)\n",
    "df['NB_VICTIMES_TOTAL'] = df['NB_VICTIMES_TOTAL'].replace(9, 3)\n",
    "df['VITESSE_AUTOR'] = df['VITESSE_AUTOR'].replace('<50', 40).astype(int)\n",
    "binary_map = {'O': 1, 'N': 0}\n",
    "binary_cols = ['IND_AUTO_CAMION_LEGER', 'IND_VELO', 'IND_MOTO_CYCLO', 'IND_VEH_LOURD', 'IND_PIETON']\n",
    "for col in binary_cols:\n",
    "    df[col] = df[col].map(binary_map)\n",
    "\n",
    "# Préparation des encodeurs pour les variables catégorielles\n",
    "categorical_features = ['HR_ACCDN', 'JR_SEMN_ACCDN', 'GRAVITE', 'REG_ADM', 'CD_GENRE_ACCDN', 'CD_ASPCT_ROUTE', 'VITESSE_AUTOR', 'CD_ETAT_SURFC', 'CD_ECLRM', 'CD_ENVRN_ACCDN', 'CD_CATEG_ROUTE', 'CD_LOCLN_ACCDN', 'CD_COND_METEO']"
   ],
   "id": "3ead9bc1cffd9324",
   "outputs": [],
   "execution_count": 17
  },
  {
   "metadata": {},
   "cell_type": "markdown",
   "source": "Pour les variables catégorielles, nous appliquerons un encodage one-hot, qui convertit les chaînes de caractères en variables numériques. Pour les variables binaires, nous les convertissons les valeurs en 0 et 1. Les variables numériques resteront inchangées.",
   "id": "b3e1ac0e0fea5b7d"
  },
  {
   "metadata": {
    "ExecuteTime": {
     "end_time": "2024-04-21T16:31:31.151050Z",
     "start_time": "2024-04-21T16:31:31.093852Z"
    }
   },
   "cell_type": "code",
   "source": [
    "# Séparation des variables explicatives et de la variable étudiée\n",
    "X = df.drop('NB_VICTIMES_TOTAL', axis=1)\n",
    "y = df['NB_VICTIMES_TOTAL']\n",
    "\n",
    "# Division des données en ensembles d'entraînement et de test\n",
    "X_train, X_test, y_train, y_test = train_test_split(X, y, test_size=0.2, random_state=42)\n",
    "# le ColumnTransformer appliquera l'encodage one-hot aux colonnes catégorielles\n",
    "preprocessor = ColumnTransformer(\n",
    "    transformers=[\n",
    "        ('cat', OneHotEncoder(), categorical_features)\n",
    "    ],\n",
    "    remainder='passthrough'  # les autres colonnes numériques restent inchangées\n",
    ")"
   ],
   "id": "9f91a98433895e1",
   "outputs": [],
   "execution_count": 18
  },
  {
   "metadata": {
    "ExecuteTime": {
     "end_time": "2024-04-21T16:31:31.803759Z",
     "start_time": "2024-04-21T16:31:31.777140Z"
    }
   },
   "cell_type": "code",
   "source": [
    "# verification si valeurs nulles\n",
    "print(X_train.isnull().sum())"
   ],
   "id": "cb9ec51da8129c71",
   "outputs": [
    {
     "name": "stdout",
     "output_type": "stream",
     "text": [
      "MS_ACCDN                  0\n",
      "HR_ACCDN                  0\n",
      "JR_SEMN_ACCDN             0\n",
      "GRAVITE                   0\n",
      "NB_VEH_IMPLIQUES_ACCDN    0\n",
      "REG_ADM                   0\n",
      "VITESSE_AUTOR             0\n",
      "CD_GENRE_ACCDN            0\n",
      "CD_ETAT_SURFC             0\n",
      "CD_ECLRM                  0\n",
      "CD_ENVRN_ACCDN            0\n",
      "CD_CATEG_ROUTE            0\n",
      "CD_ASPCT_ROUTE            0\n",
      "CD_LOCLN_ACCDN            0\n",
      "CD_CONFG_ROUTE            0\n",
      "CD_COND_METEO             0\n",
      "IND_AUTO_CAMION_LEGER     0\n",
      "IND_VEH_LOURD             0\n",
      "IND_MOTO_CYCLO            0\n",
      "IND_VELO                  0\n",
      "IND_PIETON                0\n",
      "dtype: int64\n"
     ]
    }
   ],
   "execution_count": 19
  },
  {
   "metadata": {
    "ExecuteTime": {
     "end_time": "2024-04-21T16:32:44.762127Z",
     "start_time": "2024-04-21T16:31:32.383590Z"
    }
   },
   "cell_type": "code",
   "source": [
    "# Le pipeline applique d'abord le prétraitement puis l'apprentissage du modèle.\n",
    "# On utilise un RandomForestRegressor pour prédire le nombre de victimes.\n",
    "\n",
    "pipeline = ImbPipeline([\n",
    "    ('preprocessor', preprocessor),\n",
    "    ('classifier', RandomForestRegressor(random_state=42))\n",
    "])\n",
    "\n",
    "pipeline.fit(X_train, y_train)"
   ],
   "id": "794885a732102988",
   "outputs": [
    {
     "data": {
      "text/plain": [
       "Pipeline(steps=[('preprocessor',\n",
       "                 ColumnTransformer(remainder='passthrough',\n",
       "                                   transformers=[('cat', OneHotEncoder(),\n",
       "                                                  ['HR_ACCDN', 'JR_SEMN_ACCDN',\n",
       "                                                   'GRAVITE', 'REG_ADM',\n",
       "                                                   'CD_GENRE_ACCDN',\n",
       "                                                   'CD_ASPCT_ROUTE',\n",
       "                                                   'VITESSE_AUTOR',\n",
       "                                                   'CD_ETAT_SURFC', 'CD_ECLRM',\n",
       "                                                   'CD_ENVRN_ACCDN',\n",
       "                                                   'CD_CATEG_ROUTE',\n",
       "                                                   'CD_LOCLN_ACCDN',\n",
       "                                                   'CD_COND_METEO'])])),\n",
       "                ('classifier', RandomForestRegressor(random_state=42))])"
      ],
      "text/html": [
       "<style>#sk-container-id-2 {color: black;}#sk-container-id-2 pre{padding: 0;}#sk-container-id-2 div.sk-toggleable {background-color: white;}#sk-container-id-2 label.sk-toggleable__label {cursor: pointer;display: block;width: 100%;margin-bottom: 0;padding: 0.3em;box-sizing: border-box;text-align: center;}#sk-container-id-2 label.sk-toggleable__label-arrow:before {content: \"▸\";float: left;margin-right: 0.25em;color: #696969;}#sk-container-id-2 label.sk-toggleable__label-arrow:hover:before {color: black;}#sk-container-id-2 div.sk-estimator:hover label.sk-toggleable__label-arrow:before {color: black;}#sk-container-id-2 div.sk-toggleable__content {max-height: 0;max-width: 0;overflow: hidden;text-align: left;background-color: #f0f8ff;}#sk-container-id-2 div.sk-toggleable__content pre {margin: 0.2em;color: black;border-radius: 0.25em;background-color: #f0f8ff;}#sk-container-id-2 input.sk-toggleable__control:checked~div.sk-toggleable__content {max-height: 200px;max-width: 100%;overflow: auto;}#sk-container-id-2 input.sk-toggleable__control:checked~label.sk-toggleable__label-arrow:before {content: \"▾\";}#sk-container-id-2 div.sk-estimator input.sk-toggleable__control:checked~label.sk-toggleable__label {background-color: #d4ebff;}#sk-container-id-2 div.sk-label input.sk-toggleable__control:checked~label.sk-toggleable__label {background-color: #d4ebff;}#sk-container-id-2 input.sk-hidden--visually {border: 0;clip: rect(1px 1px 1px 1px);clip: rect(1px, 1px, 1px, 1px);height: 1px;margin: -1px;overflow: hidden;padding: 0;position: absolute;width: 1px;}#sk-container-id-2 div.sk-estimator {font-family: monospace;background-color: #f0f8ff;border: 1px dotted black;border-radius: 0.25em;box-sizing: border-box;margin-bottom: 0.5em;}#sk-container-id-2 div.sk-estimator:hover {background-color: #d4ebff;}#sk-container-id-2 div.sk-parallel-item::after {content: \"\";width: 100%;border-bottom: 1px solid gray;flex-grow: 1;}#sk-container-id-2 div.sk-label:hover label.sk-toggleable__label {background-color: #d4ebff;}#sk-container-id-2 div.sk-serial::before {content: \"\";position: absolute;border-left: 1px solid gray;box-sizing: border-box;top: 0;bottom: 0;left: 50%;z-index: 0;}#sk-container-id-2 div.sk-serial {display: flex;flex-direction: column;align-items: center;background-color: white;padding-right: 0.2em;padding-left: 0.2em;position: relative;}#sk-container-id-2 div.sk-item {position: relative;z-index: 1;}#sk-container-id-2 div.sk-parallel {display: flex;align-items: stretch;justify-content: center;background-color: white;position: relative;}#sk-container-id-2 div.sk-item::before, #sk-container-id-2 div.sk-parallel-item::before {content: \"\";position: absolute;border-left: 1px solid gray;box-sizing: border-box;top: 0;bottom: 0;left: 50%;z-index: -1;}#sk-container-id-2 div.sk-parallel-item {display: flex;flex-direction: column;z-index: 1;position: relative;background-color: white;}#sk-container-id-2 div.sk-parallel-item:first-child::after {align-self: flex-end;width: 50%;}#sk-container-id-2 div.sk-parallel-item:last-child::after {align-self: flex-start;width: 50%;}#sk-container-id-2 div.sk-parallel-item:only-child::after {width: 0;}#sk-container-id-2 div.sk-dashed-wrapped {border: 1px dashed gray;margin: 0 0.4em 0.5em 0.4em;box-sizing: border-box;padding-bottom: 0.4em;background-color: white;}#sk-container-id-2 div.sk-label label {font-family: monospace;font-weight: bold;display: inline-block;line-height: 1.2em;}#sk-container-id-2 div.sk-label-container {text-align: center;}#sk-container-id-2 div.sk-container {/* jupyter's `normalize.less` sets `[hidden] { display: none; }` but bootstrap.min.css set `[hidden] { display: none !important; }` so we also need the `!important` here to be able to override the default hidden behavior on the sphinx rendered scikit-learn.org. See: https://github.com/scikit-learn/scikit-learn/issues/21755 */display: inline-block !important;position: relative;}#sk-container-id-2 div.sk-text-repr-fallback {display: none;}</style><div id=\"sk-container-id-2\" class=\"sk-top-container\"><div class=\"sk-text-repr-fallback\"><pre>Pipeline(steps=[(&#x27;preprocessor&#x27;,\n",
       "                 ColumnTransformer(remainder=&#x27;passthrough&#x27;,\n",
       "                                   transformers=[(&#x27;cat&#x27;, OneHotEncoder(),\n",
       "                                                  [&#x27;HR_ACCDN&#x27;, &#x27;JR_SEMN_ACCDN&#x27;,\n",
       "                                                   &#x27;GRAVITE&#x27;, &#x27;REG_ADM&#x27;,\n",
       "                                                   &#x27;CD_GENRE_ACCDN&#x27;,\n",
       "                                                   &#x27;CD_ASPCT_ROUTE&#x27;,\n",
       "                                                   &#x27;VITESSE_AUTOR&#x27;,\n",
       "                                                   &#x27;CD_ETAT_SURFC&#x27;, &#x27;CD_ECLRM&#x27;,\n",
       "                                                   &#x27;CD_ENVRN_ACCDN&#x27;,\n",
       "                                                   &#x27;CD_CATEG_ROUTE&#x27;,\n",
       "                                                   &#x27;CD_LOCLN_ACCDN&#x27;,\n",
       "                                                   &#x27;CD_COND_METEO&#x27;])])),\n",
       "                (&#x27;classifier&#x27;, RandomForestRegressor(random_state=42))])</pre><b>In a Jupyter environment, please rerun this cell to show the HTML representation or trust the notebook. <br />On GitHub, the HTML representation is unable to render, please try loading this page with nbviewer.org.</b></div><div class=\"sk-container\" hidden><div class=\"sk-item sk-dashed-wrapped\"><div class=\"sk-label-container\"><div class=\"sk-label sk-toggleable\"><input class=\"sk-toggleable__control sk-hidden--visually\" id=\"sk-estimator-id-10\" type=\"checkbox\" ><label for=\"sk-estimator-id-10\" class=\"sk-toggleable__label sk-toggleable__label-arrow\">Pipeline</label><div class=\"sk-toggleable__content\"><pre>Pipeline(steps=[(&#x27;preprocessor&#x27;,\n",
       "                 ColumnTransformer(remainder=&#x27;passthrough&#x27;,\n",
       "                                   transformers=[(&#x27;cat&#x27;, OneHotEncoder(),\n",
       "                                                  [&#x27;HR_ACCDN&#x27;, &#x27;JR_SEMN_ACCDN&#x27;,\n",
       "                                                   &#x27;GRAVITE&#x27;, &#x27;REG_ADM&#x27;,\n",
       "                                                   &#x27;CD_GENRE_ACCDN&#x27;,\n",
       "                                                   &#x27;CD_ASPCT_ROUTE&#x27;,\n",
       "                                                   &#x27;VITESSE_AUTOR&#x27;,\n",
       "                                                   &#x27;CD_ETAT_SURFC&#x27;, &#x27;CD_ECLRM&#x27;,\n",
       "                                                   &#x27;CD_ENVRN_ACCDN&#x27;,\n",
       "                                                   &#x27;CD_CATEG_ROUTE&#x27;,\n",
       "                                                   &#x27;CD_LOCLN_ACCDN&#x27;,\n",
       "                                                   &#x27;CD_COND_METEO&#x27;])])),\n",
       "                (&#x27;classifier&#x27;, RandomForestRegressor(random_state=42))])</pre></div></div></div><div class=\"sk-serial\"><div class=\"sk-item sk-dashed-wrapped\"><div class=\"sk-label-container\"><div class=\"sk-label sk-toggleable\"><input class=\"sk-toggleable__control sk-hidden--visually\" id=\"sk-estimator-id-11\" type=\"checkbox\" ><label for=\"sk-estimator-id-11\" class=\"sk-toggleable__label sk-toggleable__label-arrow\">preprocessor: ColumnTransformer</label><div class=\"sk-toggleable__content\"><pre>ColumnTransformer(remainder=&#x27;passthrough&#x27;,\n",
       "                  transformers=[(&#x27;cat&#x27;, OneHotEncoder(),\n",
       "                                 [&#x27;HR_ACCDN&#x27;, &#x27;JR_SEMN_ACCDN&#x27;, &#x27;GRAVITE&#x27;,\n",
       "                                  &#x27;REG_ADM&#x27;, &#x27;CD_GENRE_ACCDN&#x27;, &#x27;CD_ASPCT_ROUTE&#x27;,\n",
       "                                  &#x27;VITESSE_AUTOR&#x27;, &#x27;CD_ETAT_SURFC&#x27;, &#x27;CD_ECLRM&#x27;,\n",
       "                                  &#x27;CD_ENVRN_ACCDN&#x27;, &#x27;CD_CATEG_ROUTE&#x27;,\n",
       "                                  &#x27;CD_LOCLN_ACCDN&#x27;, &#x27;CD_COND_METEO&#x27;])])</pre></div></div></div><div class=\"sk-parallel\"><div class=\"sk-parallel-item\"><div class=\"sk-item\"><div class=\"sk-label-container\"><div class=\"sk-label sk-toggleable\"><input class=\"sk-toggleable__control sk-hidden--visually\" id=\"sk-estimator-id-12\" type=\"checkbox\" ><label for=\"sk-estimator-id-12\" class=\"sk-toggleable__label sk-toggleable__label-arrow\">cat</label><div class=\"sk-toggleable__content\"><pre>[&#x27;HR_ACCDN&#x27;, &#x27;JR_SEMN_ACCDN&#x27;, &#x27;GRAVITE&#x27;, &#x27;REG_ADM&#x27;, &#x27;CD_GENRE_ACCDN&#x27;, &#x27;CD_ASPCT_ROUTE&#x27;, &#x27;VITESSE_AUTOR&#x27;, &#x27;CD_ETAT_SURFC&#x27;, &#x27;CD_ECLRM&#x27;, &#x27;CD_ENVRN_ACCDN&#x27;, &#x27;CD_CATEG_ROUTE&#x27;, &#x27;CD_LOCLN_ACCDN&#x27;, &#x27;CD_COND_METEO&#x27;]</pre></div></div></div><div class=\"sk-serial\"><div class=\"sk-item\"><div class=\"sk-estimator sk-toggleable\"><input class=\"sk-toggleable__control sk-hidden--visually\" id=\"sk-estimator-id-13\" type=\"checkbox\" ><label for=\"sk-estimator-id-13\" class=\"sk-toggleable__label sk-toggleable__label-arrow\">OneHotEncoder</label><div class=\"sk-toggleable__content\"><pre>OneHotEncoder()</pre></div></div></div></div></div></div><div class=\"sk-parallel-item\"><div class=\"sk-item\"><div class=\"sk-label-container\"><div class=\"sk-label sk-toggleable\"><input class=\"sk-toggleable__control sk-hidden--visually\" id=\"sk-estimator-id-14\" type=\"checkbox\" ><label for=\"sk-estimator-id-14\" class=\"sk-toggleable__label sk-toggleable__label-arrow\">remainder</label><div class=\"sk-toggleable__content\"><pre>[&#x27;MS_ACCDN&#x27;, &#x27;NB_VEH_IMPLIQUES_ACCDN&#x27;, &#x27;CD_CONFG_ROUTE&#x27;, &#x27;IND_AUTO_CAMION_LEGER&#x27;, &#x27;IND_VEH_LOURD&#x27;, &#x27;IND_MOTO_CYCLO&#x27;, &#x27;IND_VELO&#x27;, &#x27;IND_PIETON&#x27;]</pre></div></div></div><div class=\"sk-serial\"><div class=\"sk-item\"><div class=\"sk-estimator sk-toggleable\"><input class=\"sk-toggleable__control sk-hidden--visually\" id=\"sk-estimator-id-15\" type=\"checkbox\" ><label for=\"sk-estimator-id-15\" class=\"sk-toggleable__label sk-toggleable__label-arrow\">passthrough</label><div class=\"sk-toggleable__content\"><pre>passthrough</pre></div></div></div></div></div></div></div></div><div class=\"sk-item\"><div class=\"sk-estimator sk-toggleable\"><input class=\"sk-toggleable__control sk-hidden--visually\" id=\"sk-estimator-id-16\" type=\"checkbox\" ><label for=\"sk-estimator-id-16\" class=\"sk-toggleable__label sk-toggleable__label-arrow\">RandomForestRegressor</label><div class=\"sk-toggleable__content\"><pre>RandomForestRegressor(random_state=42)</pre></div></div></div></div></div></div></div>"
      ]
     },
     "execution_count": 20,
     "metadata": {},
     "output_type": "execute_result"
    }
   ],
   "execution_count": 20
  },
  {
   "metadata": {
    "ExecuteTime": {
     "end_time": "2024-04-21T17:12:59.049003Z",
     "start_time": "2024-04-21T16:32:44.763631Z"
    }
   },
   "cell_type": "code",
   "source": [
    "# Paramètres à tester pour le Grid search avec validation croisée\n",
    "param_grid = {\n",
    "    'classifier__max_depth': [15, 10, 20, None],  # Profondeurs variées plus None pour pas de limite\n",
    "    'classifier__min_samples_split': [2, 10, 20],  # Min samples pour splitter\n",
    "    'classifier__min_samples_leaf': [2, 4, 6]    # Min samples par feuille\n",
    "}\n",
    "\n",
    "# Grid search avec validation croisée qui teste les différents paramètres pour éviter l'overfitting et améliorer les performances\n",
    "grid_search = GridSearchCV(pipeline, param_grid, cv=3, scoring='neg_mean_squared_error', verbose=2)\n",
    "grid_search.fit(X_train, y_train)\n",
    "\n",
    "print(\"Meilleurs paramètres: \", grid_search.best_params_)\n",
    "print(\"Meilleur score MSE: \", -grid_search.best_score_)"
   ],
   "id": "57777b71ecde9a",
   "outputs": [
    {
     "name": "stdout",
     "output_type": "stream",
     "text": [
      "Fitting 3 folds for each of 36 candidates, totalling 108 fits\n",
      "[CV] END classifier__max_depth=15, classifier__min_samples_leaf=2, classifier__min_samples_split=2; total time=  23.2s\n",
      "[CV] END classifier__max_depth=15, classifier__min_samples_leaf=2, classifier__min_samples_split=2; total time=  24.1s\n",
      "[CV] END classifier__max_depth=15, classifier__min_samples_leaf=2, classifier__min_samples_split=2; total time=  23.6s\n",
      "[CV] END classifier__max_depth=15, classifier__min_samples_leaf=2, classifier__min_samples_split=10; total time=  21.5s\n",
      "[CV] END classifier__max_depth=15, classifier__min_samples_leaf=2, classifier__min_samples_split=10; total time=  21.1s\n",
      "[CV] END classifier__max_depth=15, classifier__min_samples_leaf=2, classifier__min_samples_split=10; total time=  21.7s\n",
      "[CV] END classifier__max_depth=15, classifier__min_samples_leaf=2, classifier__min_samples_split=20; total time=  20.2s\n",
      "[CV] END classifier__max_depth=15, classifier__min_samples_leaf=2, classifier__min_samples_split=20; total time=  21.1s\n",
      "[CV] END classifier__max_depth=15, classifier__min_samples_leaf=2, classifier__min_samples_split=20; total time=  19.9s\n",
      "[CV] END classifier__max_depth=15, classifier__min_samples_leaf=4, classifier__min_samples_split=2; total time=  21.3s\n",
      "[CV] END classifier__max_depth=15, classifier__min_samples_leaf=4, classifier__min_samples_split=2; total time=  22.1s\n",
      "[CV] END classifier__max_depth=15, classifier__min_samples_leaf=4, classifier__min_samples_split=2; total time=  21.6s\n",
      "[CV] END classifier__max_depth=15, classifier__min_samples_leaf=4, classifier__min_samples_split=10; total time=  20.8s\n",
      "[CV] END classifier__max_depth=15, classifier__min_samples_leaf=4, classifier__min_samples_split=10; total time=  21.2s\n",
      "[CV] END classifier__max_depth=15, classifier__min_samples_leaf=4, classifier__min_samples_split=10; total time=  20.8s\n",
      "[CV] END classifier__max_depth=15, classifier__min_samples_leaf=4, classifier__min_samples_split=20; total time=  19.0s\n",
      "[CV] END classifier__max_depth=15, classifier__min_samples_leaf=4, classifier__min_samples_split=20; total time=  19.3s\n",
      "[CV] END classifier__max_depth=15, classifier__min_samples_leaf=4, classifier__min_samples_split=20; total time=  20.1s\n",
      "[CV] END classifier__max_depth=15, classifier__min_samples_leaf=6, classifier__min_samples_split=2; total time=  19.7s\n",
      "[CV] END classifier__max_depth=15, classifier__min_samples_leaf=6, classifier__min_samples_split=2; total time=  20.4s\n",
      "[CV] END classifier__max_depth=15, classifier__min_samples_leaf=6, classifier__min_samples_split=2; total time=  20.2s\n",
      "[CV] END classifier__max_depth=15, classifier__min_samples_leaf=6, classifier__min_samples_split=10; total time=  19.6s\n",
      "[CV] END classifier__max_depth=15, classifier__min_samples_leaf=6, classifier__min_samples_split=10; total time=  19.9s\n",
      "[CV] END classifier__max_depth=15, classifier__min_samples_leaf=6, classifier__min_samples_split=10; total time=  20.1s\n",
      "[CV] END classifier__max_depth=15, classifier__min_samples_leaf=6, classifier__min_samples_split=20; total time=  19.0s\n",
      "[CV] END classifier__max_depth=15, classifier__min_samples_leaf=6, classifier__min_samples_split=20; total time=  19.0s\n",
      "[CV] END classifier__max_depth=15, classifier__min_samples_leaf=6, classifier__min_samples_split=20; total time=  19.2s\n",
      "[CV] END classifier__max_depth=10, classifier__min_samples_leaf=2, classifier__min_samples_split=2; total time=  13.1s\n",
      "[CV] END classifier__max_depth=10, classifier__min_samples_leaf=2, classifier__min_samples_split=2; total time=  13.8s\n",
      "[CV] END classifier__max_depth=10, classifier__min_samples_leaf=2, classifier__min_samples_split=2; total time=  13.2s\n",
      "[CV] END classifier__max_depth=10, classifier__min_samples_leaf=2, classifier__min_samples_split=10; total time=  13.0s\n",
      "[CV] END classifier__max_depth=10, classifier__min_samples_leaf=2, classifier__min_samples_split=10; total time=  12.7s\n",
      "[CV] END classifier__max_depth=10, classifier__min_samples_leaf=2, classifier__min_samples_split=10; total time=  14.3s\n",
      "[CV] END classifier__max_depth=10, classifier__min_samples_leaf=2, classifier__min_samples_split=20; total time=  20.2s\n",
      "[CV] END classifier__max_depth=10, classifier__min_samples_leaf=2, classifier__min_samples_split=20; total time=  20.6s\n",
      "[CV] END classifier__max_depth=10, classifier__min_samples_leaf=2, classifier__min_samples_split=20; total time=  19.9s\n",
      "[CV] END classifier__max_depth=10, classifier__min_samples_leaf=4, classifier__min_samples_split=2; total time=  21.3s\n",
      "[CV] END classifier__max_depth=10, classifier__min_samples_leaf=4, classifier__min_samples_split=2; total time=  14.3s\n",
      "[CV] END classifier__max_depth=10, classifier__min_samples_leaf=4, classifier__min_samples_split=2; total time=  12.9s\n",
      "[CV] END classifier__max_depth=10, classifier__min_samples_leaf=4, classifier__min_samples_split=10; total time=  12.6s\n",
      "[CV] END classifier__max_depth=10, classifier__min_samples_leaf=4, classifier__min_samples_split=10; total time=  12.9s\n",
      "[CV] END classifier__max_depth=10, classifier__min_samples_leaf=4, classifier__min_samples_split=10; total time=  12.7s\n",
      "[CV] END classifier__max_depth=10, classifier__min_samples_leaf=4, classifier__min_samples_split=20; total time=  12.2s\n",
      "[CV] END classifier__max_depth=10, classifier__min_samples_leaf=4, classifier__min_samples_split=20; total time=  12.6s\n",
      "[CV] END classifier__max_depth=10, classifier__min_samples_leaf=4, classifier__min_samples_split=20; total time=  12.5s\n",
      "[CV] END classifier__max_depth=10, classifier__min_samples_leaf=6, classifier__min_samples_split=2; total time=  13.0s\n",
      "[CV] END classifier__max_depth=10, classifier__min_samples_leaf=6, classifier__min_samples_split=2; total time=  13.0s\n",
      "[CV] END classifier__max_depth=10, classifier__min_samples_leaf=6, classifier__min_samples_split=2; total time=  12.8s\n",
      "[CV] END classifier__max_depth=10, classifier__min_samples_leaf=6, classifier__min_samples_split=10; total time=  12.4s\n",
      "[CV] END classifier__max_depth=10, classifier__min_samples_leaf=6, classifier__min_samples_split=10; total time=  13.0s\n",
      "[CV] END classifier__max_depth=10, classifier__min_samples_leaf=6, classifier__min_samples_split=10; total time=  13.1s\n",
      "[CV] END classifier__max_depth=10, classifier__min_samples_leaf=6, classifier__min_samples_split=20; total time=  12.1s\n",
      "[CV] END classifier__max_depth=10, classifier__min_samples_leaf=6, classifier__min_samples_split=20; total time=  12.1s\n",
      "[CV] END classifier__max_depth=10, classifier__min_samples_leaf=6, classifier__min_samples_split=20; total time=  12.1s\n",
      "[CV] END classifier__max_depth=20, classifier__min_samples_leaf=2, classifier__min_samples_split=2; total time=  30.5s\n",
      "[CV] END classifier__max_depth=20, classifier__min_samples_leaf=2, classifier__min_samples_split=2; total time=  30.0s\n",
      "[CV] END classifier__max_depth=20, classifier__min_samples_leaf=2, classifier__min_samples_split=2; total time=  30.5s\n",
      "[CV] END classifier__max_depth=20, classifier__min_samples_leaf=2, classifier__min_samples_split=10; total time=  28.2s\n",
      "[CV] END classifier__max_depth=20, classifier__min_samples_leaf=2, classifier__min_samples_split=10; total time=  27.5s\n",
      "[CV] END classifier__max_depth=20, classifier__min_samples_leaf=2, classifier__min_samples_split=10; total time=  26.7s\n",
      "[CV] END classifier__max_depth=20, classifier__min_samples_leaf=2, classifier__min_samples_split=20; total time=  25.3s\n",
      "[CV] END classifier__max_depth=20, classifier__min_samples_leaf=2, classifier__min_samples_split=20; total time=  25.4s\n",
      "[CV] END classifier__max_depth=20, classifier__min_samples_leaf=2, classifier__min_samples_split=20; total time=  25.2s\n",
      "[CV] END classifier__max_depth=20, classifier__min_samples_leaf=4, classifier__min_samples_split=2; total time=  25.9s\n",
      "[CV] END classifier__max_depth=20, classifier__min_samples_leaf=4, classifier__min_samples_split=2; total time=  26.1s\n",
      "[CV] END classifier__max_depth=20, classifier__min_samples_leaf=4, classifier__min_samples_split=2; total time=  26.1s\n",
      "[CV] END classifier__max_depth=20, classifier__min_samples_leaf=4, classifier__min_samples_split=10; total time=  25.2s\n",
      "[CV] END classifier__max_depth=20, classifier__min_samples_leaf=4, classifier__min_samples_split=10; total time=  25.5s\n",
      "[CV] END classifier__max_depth=20, classifier__min_samples_leaf=4, classifier__min_samples_split=10; total time=  25.9s\n",
      "[CV] END classifier__max_depth=20, classifier__min_samples_leaf=4, classifier__min_samples_split=20; total time=  24.4s\n",
      "[CV] END classifier__max_depth=20, classifier__min_samples_leaf=4, classifier__min_samples_split=20; total time=  23.2s\n",
      "[CV] END classifier__max_depth=20, classifier__min_samples_leaf=4, classifier__min_samples_split=20; total time=  24.3s\n",
      "[CV] END classifier__max_depth=20, classifier__min_samples_leaf=6, classifier__min_samples_split=2; total time=  24.1s\n",
      "[CV] END classifier__max_depth=20, classifier__min_samples_leaf=6, classifier__min_samples_split=2; total time=  24.4s\n",
      "[CV] END classifier__max_depth=20, classifier__min_samples_leaf=6, classifier__min_samples_split=2; total time=  24.1s\n",
      "[CV] END classifier__max_depth=20, classifier__min_samples_leaf=6, classifier__min_samples_split=10; total time=  23.8s\n",
      "[CV] END classifier__max_depth=20, classifier__min_samples_leaf=6, classifier__min_samples_split=10; total time=  24.2s\n",
      "[CV] END classifier__max_depth=20, classifier__min_samples_leaf=6, classifier__min_samples_split=10; total time=  23.7s\n",
      "[CV] END classifier__max_depth=20, classifier__min_samples_leaf=6, classifier__min_samples_split=20; total time=  22.1s\n",
      "[CV] END classifier__max_depth=20, classifier__min_samples_leaf=6, classifier__min_samples_split=20; total time=  22.4s\n",
      "[CV] END classifier__max_depth=20, classifier__min_samples_leaf=6, classifier__min_samples_split=20; total time=  22.5s\n",
      "[CV] END classifier__max_depth=None, classifier__min_samples_leaf=2, classifier__min_samples_split=2; total time=  35.0s\n",
      "[CV] END classifier__max_depth=None, classifier__min_samples_leaf=2, classifier__min_samples_split=2; total time=  34.8s\n",
      "[CV] END classifier__max_depth=None, classifier__min_samples_leaf=2, classifier__min_samples_split=2; total time=  34.5s\n",
      "[CV] END classifier__max_depth=None, classifier__min_samples_leaf=2, classifier__min_samples_split=10; total time=  31.6s\n",
      "[CV] END classifier__max_depth=None, classifier__min_samples_leaf=2, classifier__min_samples_split=10; total time=  31.5s\n",
      "[CV] END classifier__max_depth=None, classifier__min_samples_leaf=2, classifier__min_samples_split=10; total time=  30.1s\n",
      "[CV] END classifier__max_depth=None, classifier__min_samples_leaf=2, classifier__min_samples_split=20; total time=  27.6s\n",
      "[CV] END classifier__max_depth=None, classifier__min_samples_leaf=2, classifier__min_samples_split=20; total time=  27.2s\n",
      "[CV] END classifier__max_depth=None, classifier__min_samples_leaf=2, classifier__min_samples_split=20; total time=  27.9s\n",
      "[CV] END classifier__max_depth=None, classifier__min_samples_leaf=4, classifier__min_samples_split=2; total time=  28.5s\n",
      "[CV] END classifier__max_depth=None, classifier__min_samples_leaf=4, classifier__min_samples_split=2; total time=  28.8s\n",
      "[CV] END classifier__max_depth=None, classifier__min_samples_leaf=4, classifier__min_samples_split=2; total time=  28.9s\n",
      "[CV] END classifier__max_depth=None, classifier__min_samples_leaf=4, classifier__min_samples_split=10; total time=  27.6s\n",
      "[CV] END classifier__max_depth=None, classifier__min_samples_leaf=4, classifier__min_samples_split=10; total time=  28.6s\n",
      "[CV] END classifier__max_depth=None, classifier__min_samples_leaf=4, classifier__min_samples_split=10; total time=  28.9s\n",
      "[CV] END classifier__max_depth=None, classifier__min_samples_leaf=4, classifier__min_samples_split=20; total time=  25.1s\n",
      "[CV] END classifier__max_depth=None, classifier__min_samples_leaf=4, classifier__min_samples_split=20; total time=  25.4s\n",
      "[CV] END classifier__max_depth=None, classifier__min_samples_leaf=4, classifier__min_samples_split=20; total time=  25.7s\n",
      "[CV] END classifier__max_depth=None, classifier__min_samples_leaf=6, classifier__min_samples_split=2; total time=  26.0s\n",
      "[CV] END classifier__max_depth=None, classifier__min_samples_leaf=6, classifier__min_samples_split=2; total time=  26.1s\n",
      "[CV] END classifier__max_depth=None, classifier__min_samples_leaf=6, classifier__min_samples_split=2; total time=  26.0s\n",
      "[CV] END classifier__max_depth=None, classifier__min_samples_leaf=6, classifier__min_samples_split=10; total time=  25.8s\n",
      "[CV] END classifier__max_depth=None, classifier__min_samples_leaf=6, classifier__min_samples_split=10; total time=  25.9s\n",
      "[CV] END classifier__max_depth=None, classifier__min_samples_leaf=6, classifier__min_samples_split=10; total time=  27.8s\n",
      "[CV] END classifier__max_depth=None, classifier__min_samples_leaf=6, classifier__min_samples_split=20; total time=  24.8s\n",
      "[CV] END classifier__max_depth=None, classifier__min_samples_leaf=6, classifier__min_samples_split=20; total time=  24.0s\n",
      "[CV] END classifier__max_depth=None, classifier__min_samples_leaf=6, classifier__min_samples_split=20; total time=  24.0s\n",
      "Meilleurs paramètres:  {'classifier__max_depth': 10, 'classifier__min_samples_leaf': 6, 'classifier__min_samples_split': 20}\n",
      "Meilleur score MSE:  0.0605621084134019\n"
     ]
    }
   ],
   "execution_count": 21
  },
  {
   "metadata": {
    "ExecuteTime": {
     "end_time": "2024-04-21T18:27:56.209723Z",
     "start_time": "2024-04-21T18:27:55.819259Z"
    }
   },
   "cell_type": "code",
   "source": [
    "# Calculer les erreurs sur l'ensemble d'entraînement\n",
    "y_train_pred = grid_search.predict(X_train)\n",
    "train_mse = mean_squared_error(y_train, y_train_pred)\n",
    "train_r2 = r2_score(y_train, y_train_pred)\n",
    "\n",
    "# Calculer les erreurs sur l'ensemble de test\n",
    "y_test_pred = grid_search.predict(X_test)\n",
    "test_mse = mean_squared_error(y_test, y_test_pred)\n",
    "test_r2 = r2_score(y_test, y_test_pred)\n",
    "\n",
    "print(f'Train MSE: {train_mse}, Train R2: {train_r2}')\n",
    "print(f'Test MSE: {test_mse}, Test R2: {test_r2}')"
   ],
   "id": "e1efb0c852417f92",
   "outputs": [
    {
     "name": "stdout",
     "output_type": "stream",
     "text": [
      "Train MSE: 0.054307198978674635, Train R2: 0.8439197086623476\n",
      "Test MSE: 0.05894741077297485, Test R2: 0.8275166346308107\n"
     ]
    }
   ],
   "execution_count": 28
  },
  {
   "metadata": {},
   "cell_type": "markdown",
   "source": "Ici nous voyons que le modèle a des performances similaires sur les ensembles d'entraînement et de test, ce qui indique qu'il n'y a pas d'overfitting. Les scores R2 sont proches de 1, ce qui indique que le modèle est capable de prédire les données de test avec une grande précision.",
   "id": "3dde5e6df8f169fc"
  },
  {
   "metadata": {
    "ExecuteTime": {
     "end_time": "2024-04-21T18:43:01.128753Z",
     "start_time": "2024-04-21T18:43:01.034879Z"
    }
   },
   "cell_type": "code",
   "source": [
    "# Prédiction sur l'ensemble de test\n",
    "y_pred = grid_search.predict(X_test)\n",
    "\n",
    "# Calcul des métriques\n",
    "mse = mean_squared_error(y_test, y_pred)\n",
    "rmse = mean_squared_error(y_test, y_pred, squared=False)\n",
    "mae = mean_absolute_error(y_test, y_pred)\n",
    "r2 = r2_score(y_test, y_pred)\n",
    "\n",
    "print(f'Mean Squared Error: {mse}')\n",
    "print(f'Root Mean Squared Error: {rmse}')\n",
    "print(f'Mean Absolute Error: {mae}')\n",
    "print(f'R2 Score: {r2}')"
   ],
   "id": "8698d4c77830f37c",
   "outputs": [
    {
     "name": "stdout",
     "output_type": "stream",
     "text": [
      "Mean Squared Error: 0.05894741077297485\n",
      "Root Mean Squared Error: 0.24279087868570115\n",
      "Mean Absolute Error: 0.08034403148488105\n",
      "R2 Score: 0.8275166346308107\n"
     ]
    }
   ],
   "execution_count": 29
  },
  {
   "metadata": {
    "ExecuteTime": {
     "end_time": "2024-04-21T17:31:31.289488Z",
     "start_time": "2024-04-21T17:31:31.266764Z"
    }
   },
   "cell_type": "code",
   "source": [
    "# Calcul de la moyenne des victimes dans l'ensemble d'entraînement\n",
    "mean_victims = np.mean(y_train)\n",
    "\n",
    "# Création des prédictions constantes basées sur cette moyenne pour l'ensemble de test\n",
    "y_pred_baseline = np.full(shape=y_test.shape, fill_value=mean_victims)\n",
    "\n",
    "# Calcul des métriques de performance pour le modèle de base\n",
    "mse_baseline = mean_squared_error(y_test, y_pred_baseline)\n",
    "rmse_baseline = np.sqrt(mse_baseline)\n",
    "r2_baseline = r2_score(y_test, y_pred_baseline)\n",
    "\n",
    "# Affichage des résultats\n",
    "print(\"Modèle de base prédisant toujours la moyenne des victimes :\")\n",
    "print(f\"Valeur moyenne prédite : {mean_victims}\")\n",
    "print(f\"Mean Squared Error (MSE) : {mse_baseline}\")\n",
    "print(f\"Root Mean Squared Error (RMSE) : {rmse_baseline}\")\n",
    "print(f\"R² Score : {r2_baseline}\")"
   ],
   "id": "f08235d1d7327d2",
   "outputs": [
    {
     "name": "stdout",
     "output_type": "stream",
     "text": [
      "Modèle de base prédisant toujours la moyenne des victimes :\n",
      "Valeur moyenne prédite : 0.28981450062210157\n",
      "Mean Squared Error (MSE) : 0.34187348915590293\n",
      "Root Mean Squared Error (RMSE) : 0.584699486194321\n",
      "R² Score : -0.00034062848357652165\n"
     ]
    }
   ],
   "execution_count": 27
  },
  {
   "metadata": {},
   "cell_type": "markdown",
   "source": "On voit que le modèle de base, qui prédit toujours la moyenne du nombre de victimes, a des performances nettement inférieures à celles du modèle entraîné. Cela confirme que le modèle entraîné est capable de prédire les données de test de manière significativement plus précise.",
   "id": "9c9a340a4c0e95bf"
  }
 ],
 "metadata": {
  "kernelspec": {
   "display_name": "Python 3",
   "language": "python",
   "name": "python3"
  },
  "language_info": {
   "codemirror_mode": {
    "name": "ipython",
    "version": 2
   },
   "file_extension": ".py",
   "mimetype": "text/x-python",
   "name": "python",
   "nbconvert_exporter": "python",
   "pygments_lexer": "ipython2",
   "version": "2.7.6"
  }
 },
 "nbformat": 4,
 "nbformat_minor": 5
}
